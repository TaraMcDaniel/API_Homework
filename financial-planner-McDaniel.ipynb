{
 "cells": [
  {
   "cell_type": "markdown",
   "metadata": {},
   "source": [
    "# Unit 5 - Financial Planning\n"
   ]
  },
  {
   "cell_type": "code",
   "execution_count": 1,
   "metadata": {},
   "outputs": [],
   "source": [
    "# Initial imports\n",
    "import os\n",
    "import requests\n",
    "import pandas as pd\n",
    "from dotenv import load_dotenv\n",
    "import alpaca_trade_api as tradeapi\n",
    "from MCForecastTools import MCSimulation\n",
    "\n",
    "%matplotlib inline"
   ]
  },
  {
   "cell_type": "code",
   "execution_count": 2,
   "metadata": {},
   "outputs": [
    {
     "data": {
      "text/plain": [
       "True"
      ]
     },
     "execution_count": 2,
     "metadata": {},
     "output_type": "execute_result"
    }
   ],
   "source": [
    "# Load .env enviroment variables\n",
    "load_dotenv()"
   ]
  },
  {
   "cell_type": "markdown",
   "metadata": {},
   "source": [
    "## Part 1 - Personal Finance Planner"
   ]
  },
  {
   "cell_type": "markdown",
   "metadata": {},
   "source": [
    "### Collect Crypto Prices Using the `requests` Library"
   ]
  },
  {
   "cell_type": "code",
   "execution_count": 3,
   "metadata": {},
   "outputs": [],
   "source": [
    "# Set current amount of crypto assets\n",
    "my_btc = 1.2\n",
    "my_eth = 5.3"
   ]
  },
  {
   "cell_type": "code",
   "execution_count": 4,
   "metadata": {},
   "outputs": [],
   "source": [
    "# Crypto API URLs\n",
    "btc_url = \"https://api.alternative.me/v2/ticker/Bitcoin/?convert=CAD\"\n",
    "eth_url = \"https://api.alternative.me/v2/ticker/Ethereum/?convert=CAD\""
   ]
  },
  {
   "cell_type": "code",
   "execution_count": 5,
   "metadata": {},
   "outputs": [
    {
     "name": "stdout",
     "output_type": "stream",
     "text": [
      "{\n",
      "    \"data\": {\n",
      "        \"1\": {\n",
      "            \"id\": 1,\n",
      "            \"name\": \"Bitcoin\",\n",
      "            \"symbol\": \"BTC\",\n",
      "            \"website_slug\": \"bitcoin\",\n",
      "            \"rank\": 1,\n",
      "            \"circulating_supply\": 18889606,\n",
      "            \"total_supply\": 18889606,\n",
      "            \"max_supply\": 21000000,\n",
      "            \"quotes\": {\n",
      "                \"USD\": {\n",
      "                    \"price\": 56491.0,\n",
      "                    \"volume_24h\": 34870004197,\n",
      "                    \"market_cap\": 1063191158631,\n",
      "                    \"percentage_change_1h\": 0.42973389887521,\n",
      "                    \"percentage_change_24h\": -0.0311241854124715,\n",
      "                    \"percentage_change_7d\": -4.08662405902513,\n",
      "                    \"percent_change_1h\": 0.42973389887521,\n",
      "                    \"percent_change_24h\": -0.0311241854124715,\n",
      "                    \"percent_change_7d\": -4.08662405902513\n",
      "                },\n",
      "                \"CAD\": {\n",
      "                    \"price\": 72421.462,\n",
      "                    \"volume_24h\": 44703345380.554,\n",
      "                    \"market_cap\": 1363011065364.94,\n",
      "                    \"percent_change_1h\": 0.42973389887521,\n",
      "                    \"percent_change_24h\": -0.0311241854124715,\n",
      "                    \"percent_change_7d\": -4.08662405902513\n",
      "                }\n",
      "            },\n",
      "            \"last_updated\": 1638504838\n",
      "        }\n",
      "    },\n",
      "    \"metadata\": {\n",
      "        \"timestamp\": 1638504838,\n",
      "        \"num_cryptocurrencies\": 3105,\n",
      "        \"error\": null\n",
      "    }\n",
      "}\n"
     ]
    }
   ],
   "source": [
    "# Fetch current BTC price\n",
    "requests.get(btc_url)\n",
    "response_btc_data = requests.get(btc_url)\n",
    "current_btc_price = response_btc_data.content\n",
    "\n",
    "# Convert data to json format\n",
    "import json\n",
    "current_btc_price = response_btc_data.json()\n",
    "print(json.dumps(current_btc_price, indent=4))"
   ]
  },
  {
   "cell_type": "code",
   "execution_count": 6,
   "metadata": {},
   "outputs": [
    {
     "name": "stdout",
     "output_type": "stream",
     "text": [
      "56491.0\n"
     ]
    }
   ],
   "source": [
    "# Current BTC price\n",
    "current_btc_price = current_btc_price['data']['1']['quotes']['USD']['price']\n",
    "print(current_btc_price)"
   ]
  },
  {
   "cell_type": "code",
   "execution_count": 7,
   "metadata": {},
   "outputs": [
    {
     "name": "stdout",
     "output_type": "stream",
     "text": [
      "{\n",
      "    \"data\": {\n",
      "        \"1027\": {\n",
      "            \"id\": 1027,\n",
      "            \"name\": \"Ethereum\",\n",
      "            \"symbol\": \"ETH\",\n",
      "            \"website_slug\": \"ethereum\",\n",
      "            \"rank\": 2,\n",
      "            \"circulating_supply\": 118584527,\n",
      "            \"total_supply\": 118584527,\n",
      "            \"max_supply\": 0,\n",
      "            \"quotes\": {\n",
      "                \"USD\": {\n",
      "                    \"price\": 4510.84,\n",
      "                    \"volume_24h\": 20441104883,\n",
      "                    \"market_cap\": 533606205742,\n",
      "                    \"percentage_change_1h\": 0.386136918703767,\n",
      "                    \"percentage_change_24h\": -0.216801135707139,\n",
      "                    \"percentage_change_7d\": -0.11087869057316,\n",
      "                    \"percent_change_1h\": 0.386136918703767,\n",
      "                    \"percent_change_24h\": -0.216801135707139,\n",
      "                    \"percent_change_7d\": -0.11087869057316\n",
      "                },\n",
      "                \"CAD\": {\n",
      "                    \"price\": 5782.89688,\n",
      "                    \"volume_24h\": 26205496460.006,\n",
      "                    \"market_cap\": 684083155761.244,\n",
      "                    \"percent_change_1h\": 0.386136918703767,\n",
      "                    \"percent_change_24h\": -0.216801135707139,\n",
      "                    \"percent_change_7d\": -0.11087869057316\n",
      "                }\n",
      "            },\n",
      "            \"last_updated\": 1638504876\n",
      "        }\n",
      "    },\n",
      "    \"metadata\": {\n",
      "        \"timestamp\": 1638504876,\n",
      "        \"num_cryptocurrencies\": 3105,\n",
      "        \"error\": null\n",
      "    }\n",
      "}\n"
     ]
    }
   ],
   "source": [
    "# Fetch current ETH price\n",
    "requests.get(eth_url)\n",
    "response_eth_data = requests.get(eth_url)\n",
    "current_eth_price = response_eth_data.content\n",
    "\n",
    "# Convert data to json format\n",
    "current_eth_price = response_eth_data.json()\n",
    "print(json.dumps(current_eth_price, indent=4))"
   ]
  },
  {
   "cell_type": "code",
   "execution_count": 8,
   "metadata": {},
   "outputs": [
    {
     "name": "stdout",
     "output_type": "stream",
     "text": [
      "4510.84\n"
     ]
    }
   ],
   "source": [
    "# Current ETH price\n",
    "current_eth_price = current_eth_price['data']['1027']['quotes']['USD']['price']\n",
    "print(current_eth_price)"
   ]
  },
  {
   "cell_type": "code",
   "execution_count": 9,
   "metadata": {},
   "outputs": [],
   "source": [
    "# Compute current value of my crpto\n",
    "my_btc_value = my_btc * current_btc_price\n",
    "my_eth_value = my_eth * current_eth_price"
   ]
  },
  {
   "cell_type": "code",
   "execution_count": 10,
   "metadata": {},
   "outputs": [
    {
     "name": "stdout",
     "output_type": "stream",
     "text": [
      "The current value of your 1.2 BTC is $67789.20\n",
      "The current value of your 5.3 ETH is $23907.45\n"
     ]
    }
   ],
   "source": [
    "# Print current crypto wallet balance\n",
    "print(f\"The current value of your {my_btc} BTC is ${my_btc_value:0.2f}\")\n",
    "print(f\"The current value of your {my_eth} ETH is ${my_eth_value:0.2f}\")"
   ]
  },
  {
   "cell_type": "markdown",
   "metadata": {},
   "source": [
    "### Collect Investments Data Using Alpaca: `SPY` (stocks) and `AGG` (bonds)"
   ]
  },
  {
   "cell_type": "code",
   "execution_count": 11,
   "metadata": {},
   "outputs": [],
   "source": [
    "# Current amount of shares\n",
    "my_agg = 200\n",
    "my_spy = 50"
   ]
  },
  {
   "cell_type": "code",
   "execution_count": 12,
   "metadata": {},
   "outputs": [
    {
     "name": "stdout",
     "output_type": "stream",
     "text": [
      "Alpaca key type: <class 'str'>\n",
      "Alpaca secret key type: <class 'str'>\n"
     ]
    }
   ],
   "source": [
    "# Set Alpaca API key and secret\n",
    "alpaca_api_key = os.getenv(\"ALPACA_API_KEY\")\n",
    "alpaca_secret_key = os.getenv(\"ALPACA_SECRET_KEY\")\n",
    "\n",
    "#Verify key type\n",
    "# Create the Alpaca API object\n",
    "print(f\"Alpaca key type: {type(alpaca_api_key)}\")\n",
    "print(f\"Alpaca secret key type: {type(alpaca_secret_key)}\")"
   ]
  },
  {
   "cell_type": "code",
   "execution_count": 13,
   "metadata": {},
   "outputs": [],
   "source": [
    "# Create the Alpaca API object\n",
    "# Create the Alpaca API object - Function 'Rest'\n",
    "alpaca = tradeapi.REST(\n",
    "    alpaca_api_key,\n",
    "    alpaca_secret_key,\n",
    "    api_version=\"v2\")"
   ]
  },
  {
   "cell_type": "code",
   "execution_count": 14,
   "metadata": {},
   "outputs": [
    {
     "data": {
      "text/html": [
       "<div>\n",
       "<style scoped>\n",
       "    .dataframe tbody tr th:only-of-type {\n",
       "        vertical-align: middle;\n",
       "    }\n",
       "\n",
       "    .dataframe tbody tr th {\n",
       "        vertical-align: top;\n",
       "    }\n",
       "\n",
       "    .dataframe thead tr th {\n",
       "        text-align: left;\n",
       "    }\n",
       "\n",
       "    .dataframe thead tr:last-of-type th {\n",
       "        text-align: right;\n",
       "    }\n",
       "</style>\n",
       "<table border=\"1\" class=\"dataframe\">\n",
       "  <thead>\n",
       "    <tr>\n",
       "      <th></th>\n",
       "      <th colspan=\"5\" halign=\"left\">AGG</th>\n",
       "      <th colspan=\"5\" halign=\"left\">SPY</th>\n",
       "    </tr>\n",
       "    <tr>\n",
       "      <th></th>\n",
       "      <th>open</th>\n",
       "      <th>high</th>\n",
       "      <th>low</th>\n",
       "      <th>close</th>\n",
       "      <th>volume</th>\n",
       "      <th>open</th>\n",
       "      <th>high</th>\n",
       "      <th>low</th>\n",
       "      <th>close</th>\n",
       "      <th>volume</th>\n",
       "    </tr>\n",
       "    <tr>\n",
       "      <th>time</th>\n",
       "      <th></th>\n",
       "      <th></th>\n",
       "      <th></th>\n",
       "      <th></th>\n",
       "      <th></th>\n",
       "      <th></th>\n",
       "      <th></th>\n",
       "      <th></th>\n",
       "      <th></th>\n",
       "      <th></th>\n",
       "    </tr>\n",
       "  </thead>\n",
       "  <tbody>\n",
       "    <tr>\n",
       "      <th>2021-11-30 00:00:00-05:00</th>\n",
       "      <td>114.87</td>\n",
       "      <td>115.1074</td>\n",
       "      <td>114.5</td>\n",
       "      <td>114.765</td>\n",
       "      <td>10624796</td>\n",
       "      <td>462</td>\n",
       "      <td>464.03</td>\n",
       "      <td>455.3</td>\n",
       "      <td>455.78</td>\n",
       "      <td>126381409</td>\n",
       "    </tr>\n",
       "  </tbody>\n",
       "</table>\n",
       "</div>"
      ],
      "text/plain": [
       "                              AGG                                      SPY  \\\n",
       "                             open      high    low    close    volume open   \n",
       "time                                                                         \n",
       "2021-11-30 00:00:00-05:00  114.87  115.1074  114.5  114.765  10624796  462   \n",
       "\n",
       "                                                             \n",
       "                             high    low   close     volume  \n",
       "time                                                         \n",
       "2021-11-30 00:00:00-05:00  464.03  455.3  455.78  126381409  "
      ]
     },
     "execution_count": 14,
     "metadata": {},
     "output_type": "execute_result"
    }
   ],
   "source": [
    "# Format current date as ISO format\n",
    "today = pd.Timestamp(\"2021-11-30\", tz=\"America/New_York\").isoformat()\n",
    "\n",
    "# Set the tickers\n",
    "tickers = [\"AGG\", \"SPY\"]\n",
    "\n",
    "# Set timeframe to '1D' for Alpaca API\n",
    "timeframe = \"1D\"\n",
    "\n",
    "# Get current closing prices for SPY and AGG\n",
    "prices = alpaca.get_barset(\n",
    "    tickers,\n",
    "    timeframe,\n",
    "    start = today,\n",
    "    end = today\n",
    ").df\n",
    "# Preview DataFrame\n",
    "prices"
   ]
  },
  {
   "cell_type": "code",
   "execution_count": 15,
   "metadata": {},
   "outputs": [
    {
     "name": "stdout",
     "output_type": "stream",
     "text": [
      "Current AGG closing price: $114.765\n",
      "Current SPY closing price: $455.78\n"
     ]
    }
   ],
   "source": [
    "# Pick AGG and SPY close prices\n",
    "agg_close_price = float(prices['AGG']['close'])\n",
    "spy_close_price = float(prices['SPY']['close'])\n",
    "\n",
    "# Print AGG and SPY close prices\n",
    "print(f\"Current AGG closing price: ${agg_close_price}\")\n",
    "print(f\"Current SPY closing price: ${spy_close_price}\")"
   ]
  },
  {
   "cell_type": "code",
   "execution_count": 16,
   "metadata": {},
   "outputs": [
    {
     "name": "stdout",
     "output_type": "stream",
     "text": [
      "The current value of your 50 SPY shares is $22789.00\n",
      "The current value of your 200 AGG shares is $22953.00\n"
     ]
    }
   ],
   "source": [
    "# Compute the current value of shares\n",
    "my_agg_value = my_agg * agg_close_price\n",
    "my_spy_value = my_spy * spy_close_price\n",
    "\n",
    "# Print current value of share\n",
    "print(f\"The current value of your {my_spy} SPY shares is ${my_spy_value:0.2f}\")\n",
    "print(f\"The current value of your {my_agg} AGG shares is ${my_agg_value:0.2f}\")"
   ]
  },
  {
   "cell_type": "markdown",
   "metadata": {},
   "source": [
    "### Savings Health Analysis"
   ]
  },
  {
   "cell_type": "code",
   "execution_count": 17,
   "metadata": {},
   "outputs": [
    {
     "data": {
      "text/html": [
       "<div>\n",
       "<style scoped>\n",
       "    .dataframe tbody tr th:only-of-type {\n",
       "        vertical-align: middle;\n",
       "    }\n",
       "\n",
       "    .dataframe tbody tr th {\n",
       "        vertical-align: top;\n",
       "    }\n",
       "\n",
       "    .dataframe thead th {\n",
       "        text-align: right;\n",
       "    }\n",
       "</style>\n",
       "<table border=\"1\" class=\"dataframe\">\n",
       "  <thead>\n",
       "    <tr style=\"text-align: right;\">\n",
       "      <th></th>\n",
       "      <th>amount</th>\n",
       "    </tr>\n",
       "  </thead>\n",
       "  <tbody>\n",
       "    <tr>\n",
       "      <th>crypto</th>\n",
       "      <td>91696.652</td>\n",
       "    </tr>\n",
       "    <tr>\n",
       "      <th>shares</th>\n",
       "      <td>45742.000</td>\n",
       "    </tr>\n",
       "  </tbody>\n",
       "</table>\n",
       "</div>"
      ],
      "text/plain": [
       "           amount\n",
       "crypto  91696.652\n",
       "shares  45742.000"
      ]
     },
     "metadata": {},
     "output_type": "display_data"
    },
    {
     "data": {
      "text/html": [
       "<div>\n",
       "<style scoped>\n",
       "    .dataframe tbody tr th:only-of-type {\n",
       "        vertical-align: middle;\n",
       "    }\n",
       "\n",
       "    .dataframe tbody tr th {\n",
       "        vertical-align: top;\n",
       "    }\n",
       "\n",
       "    .dataframe thead th {\n",
       "        text-align: right;\n",
       "    }\n",
       "</style>\n",
       "<table border=\"1\" class=\"dataframe\">\n",
       "  <thead>\n",
       "    <tr style=\"text-align: right;\">\n",
       "      <th></th>\n",
       "      <th>amount</th>\n",
       "    </tr>\n",
       "  </thead>\n",
       "  <tbody>\n",
       "    <tr>\n",
       "      <th>crypto</th>\n",
       "      <td>91696.652</td>\n",
       "    </tr>\n",
       "    <tr>\n",
       "      <th>shares</th>\n",
       "      <td>45742.000</td>\n",
       "    </tr>\n",
       "  </tbody>\n",
       "</table>\n",
       "</div>"
      ],
      "text/plain": [
       "           amount\n",
       "crypto  91696.652\n",
       "shares  45742.000"
      ]
     },
     "metadata": {},
     "output_type": "display_data"
    }
   ],
   "source": [
    "# Set monthly household income\n",
    "monthly_income = 12000\n",
    "\n",
    "# Calculate my total crypto assets and shares\n",
    "my_total_crypto = my_btc_value + my_eth_value\n",
    "my_total_shares = my_agg_value + my_spy_value\n",
    "\n",
    "# Set the data for the shares value DataFrame\n",
    "value_data = {\n",
    "    \"amount\":[my_total_crypto, my_total_shares]\n",
    "} \n",
    "\n",
    "\n",
    "# Create savings DataFrame\n",
    "df_savings = pd.DataFrame(value_data, index =['crypto', 'shares'])\n",
    "display(df_savings)\n",
    "\n",
    "# Display savings DataFrame\n",
    "display(df_savings)"
   ]
  },
  {
   "cell_type": "code",
   "execution_count": 18,
   "metadata": {},
   "outputs": [
    {
     "data": {
      "text/plain": [
       "<AxesSubplot:ylabel='amount'>"
      ]
     },
     "execution_count": 18,
     "metadata": {},
     "output_type": "execute_result"
    },
    {
     "data": {
      "image/png": "[encoded data removed]",
      "text/plain": [
       "<Figure size 432x288 with 1 Axes>"
      ]
     },
     "metadata": {},
     "output_type": "display_data"
    }
   ],
   "source": [
    "# Plot savings pie chart\n",
    "df_savings.plot.pie(y=\"amount\")"
   ]
  },
  {
   "cell_type": "code",
   "execution_count": 19,
   "metadata": {},
   "outputs": [
    {
     "name": "stdout",
     "output_type": "stream",
     "text": [
      "Your total amount of saving is $137438.65\n",
      "Congratulations! you have enough money in your emergency fund\n"
     ]
    }
   ],
   "source": [
    "# Set ideal emergency fund\n",
    "emergency_fund = monthly_income * 3\n",
    "\n",
    "# Calculate total amount of savings\n",
    "total_savings = my_total_crypto + my_total_shares\n",
    "print(f\"Your total amount of saving is ${total_savings:0.2f}\")\n",
    "\n",
    "# Validate saving health\n",
    "if total_savings > emergency_fund:\n",
    "    print(f\"Congratulations! you have enough money in your emergency fund\")\n",
    "    \n",
    "elif total_savings == emergency_fund:\n",
    "    print(f\"Congratulations! you have reached your financial goal\")\n",
    "    \n",
    "else:\n",
    "    print(f\"Sorry! you are still missing ${total_savings - emergency_fund:0.2f} away from your financial goal\")"
   ]
  },
  {
   "cell_type": "markdown",
   "metadata": {},
   "source": [
    "## Part 2 - Retirement Planning\n",
    "\n",
    "### Monte Carlo Simulation"
   ]
  },
  {
   "cell_type": "code",
   "execution_count": 20,
   "metadata": {},
   "outputs": [],
   "source": [
    "# Set start and end dates of five years back from today.\n",
    "# Sample results may vary from the solution based on the time frame chosen\n",
    "start_date = pd.Timestamp('2018-12-01', tz='America/New_York').isoformat()\n",
    "end_date = pd.Timestamp('2021-11-30', tz='America/New_York').isoformat()"
   ]
  },
  {
   "cell_type": "code",
   "execution_count": 21,
   "metadata": {},
   "outputs": [],
   "source": [
    "# Set timeframe to 1D\n",
    "timeframe = \"1D\""
   ]
  },
  {
   "cell_type": "code",
   "execution_count": 22,
   "metadata": {},
   "outputs": [
    {
     "data": {
      "text/html": [
       "<div>\n",
       "<style scoped>\n",
       "    .dataframe tbody tr th:only-of-type {\n",
       "        vertical-align: middle;\n",
       "    }\n",
       "\n",
       "    .dataframe tbody tr th {\n",
       "        vertical-align: top;\n",
       "    }\n",
       "\n",
       "    .dataframe thead tr th {\n",
       "        text-align: left;\n",
       "    }\n",
       "\n",
       "    .dataframe thead tr:last-of-type th {\n",
       "        text-align: right;\n",
       "    }\n",
       "</style>\n",
       "<table border=\"1\" class=\"dataframe\">\n",
       "  <thead>\n",
       "    <tr>\n",
       "      <th></th>\n",
       "      <th colspan=\"5\" halign=\"left\">AGG</th>\n",
       "      <th colspan=\"5\" halign=\"left\">SPY</th>\n",
       "    </tr>\n",
       "    <tr>\n",
       "      <th></th>\n",
       "      <th>open</th>\n",
       "      <th>high</th>\n",
       "      <th>low</th>\n",
       "      <th>close</th>\n",
       "      <th>volume</th>\n",
       "      <th>open</th>\n",
       "      <th>high</th>\n",
       "      <th>low</th>\n",
       "      <th>close</th>\n",
       "      <th>volume</th>\n",
       "    </tr>\n",
       "    <tr>\n",
       "      <th>time</th>\n",
       "      <th></th>\n",
       "      <th></th>\n",
       "      <th></th>\n",
       "      <th></th>\n",
       "      <th></th>\n",
       "      <th></th>\n",
       "      <th></th>\n",
       "      <th></th>\n",
       "      <th></th>\n",
       "      <th></th>\n",
       "    </tr>\n",
       "  </thead>\n",
       "  <tbody>\n",
       "    <tr>\n",
       "      <th>2021-07-12 00:00:00-04:00</th>\n",
       "      <td>115.80</td>\n",
       "      <td>115.805</td>\n",
       "      <td>115.6000</td>\n",
       "      <td>115.63</td>\n",
       "      <td>3184908</td>\n",
       "      <td>435.42</td>\n",
       "      <td>437.35</td>\n",
       "      <td>434.97</td>\n",
       "      <td>437.08</td>\n",
       "      <td>42031814</td>\n",
       "    </tr>\n",
       "    <tr>\n",
       "      <th>2021-07-13 00:00:00-04:00</th>\n",
       "      <td>115.65</td>\n",
       "      <td>115.760</td>\n",
       "      <td>115.3022</td>\n",
       "      <td>115.39</td>\n",
       "      <td>4698374</td>\n",
       "      <td>436.26</td>\n",
       "      <td>437.84</td>\n",
       "      <td>435.31</td>\n",
       "      <td>435.62</td>\n",
       "      <td>45923305</td>\n",
       "    </tr>\n",
       "    <tr>\n",
       "      <th>2021-07-14 00:00:00-04:00</th>\n",
       "      <td>115.59</td>\n",
       "      <td>115.760</td>\n",
       "      <td>115.5690</td>\n",
       "      <td>115.75</td>\n",
       "      <td>3907266</td>\n",
       "      <td>437.39</td>\n",
       "      <td>437.92</td>\n",
       "      <td>434.91</td>\n",
       "      <td>436.22</td>\n",
       "      <td>54445950</td>\n",
       "    </tr>\n",
       "    <tr>\n",
       "      <th>2021-07-15 00:00:00-04:00</th>\n",
       "      <td>115.94</td>\n",
       "      <td>116.020</td>\n",
       "      <td>115.7222</td>\n",
       "      <td>115.99</td>\n",
       "      <td>3675913</td>\n",
       "      <td>434.81</td>\n",
       "      <td>435.53</td>\n",
       "      <td>432.72</td>\n",
       "      <td>434.73</td>\n",
       "      <td>50376465</td>\n",
       "    </tr>\n",
       "    <tr>\n",
       "      <th>2021-07-16 00:00:00-04:00</th>\n",
       "      <td>115.77</td>\n",
       "      <td>115.960</td>\n",
       "      <td>115.7600</td>\n",
       "      <td>115.90</td>\n",
       "      <td>3679747</td>\n",
       "      <td>436.00</td>\n",
       "      <td>436.06</td>\n",
       "      <td>430.92</td>\n",
       "      <td>431.38</td>\n",
       "      <td>66637403</td>\n",
       "    </tr>\n",
       "  </tbody>\n",
       "</table>\n",
       "</div>"
      ],
      "text/plain": [
       "                              AGG                                         SPY  \\\n",
       "                             open     high       low   close   volume    open   \n",
       "time                                                                            \n",
       "2021-07-12 00:00:00-04:00  115.80  115.805  115.6000  115.63  3184908  435.42   \n",
       "2021-07-13 00:00:00-04:00  115.65  115.760  115.3022  115.39  4698374  436.26   \n",
       "2021-07-14 00:00:00-04:00  115.59  115.760  115.5690  115.75  3907266  437.39   \n",
       "2021-07-15 00:00:00-04:00  115.94  116.020  115.7222  115.99  3675913  434.81   \n",
       "2021-07-16 00:00:00-04:00  115.77  115.960  115.7600  115.90  3679747  436.00   \n",
       "\n",
       "                                                             \n",
       "                             high     low   close    volume  \n",
       "time                                                         \n",
       "2021-07-12 00:00:00-04:00  437.35  434.97  437.08  42031814  \n",
       "2021-07-13 00:00:00-04:00  437.84  435.31  435.62  45923305  \n",
       "2021-07-14 00:00:00-04:00  437.92  434.91  436.22  54445950  \n",
       "2021-07-15 00:00:00-04:00  435.53  432.72  434.73  50376465  \n",
       "2021-07-16 00:00:00-04:00  436.06  430.92  431.38  66637403  "
      ]
     },
     "execution_count": 22,
     "metadata": {},
     "output_type": "execute_result"
    }
   ],
   "source": [
    "# Get 5 years' worth of historical data for SPY and AGG\n",
    "df_stock_data = alpaca.get_barset(\n",
    "    tickers,\n",
    "    timeframe,\n",
    "    start=start_date,\n",
    "    end=end_date\n",
    ").df\n",
    "\n",
    "# Display sample data\n",
    "df_stock_data.head()"
   ]
  },
  {
   "cell_type": "code",
   "execution_count": 23,
   "metadata": {},
   "outputs": [],
   "source": [
    "# Configuring a Monte Carlo simulation to forecast 30 years cumulative returns\n",
    "MC_30_years = MCSimulation(\n",
    "    portfolio_data = df_stock_data,\n",
    "    weights = [.40,.60],\n",
    "    num_simulation = 500,\n",
    "    num_trading_days = 252*30\n",
    ")"
   ]
  },
  {
   "cell_type": "code",
   "execution_count": 24,
   "metadata": {},
   "outputs": [
    {
     "data": {
      "text/html": [
       "<div>\n",
       "<style scoped>\n",
       "    .dataframe tbody tr th:only-of-type {\n",
       "        vertical-align: middle;\n",
       "    }\n",
       "\n",
       "    .dataframe tbody tr th {\n",
       "        vertical-align: top;\n",
       "    }\n",
       "\n",
       "    .dataframe thead tr th {\n",
       "        text-align: left;\n",
       "    }\n",
       "\n",
       "    .dataframe thead tr:last-of-type th {\n",
       "        text-align: right;\n",
       "    }\n",
       "</style>\n",
       "<table border=\"1\" class=\"dataframe\">\n",
       "  <thead>\n",
       "    <tr>\n",
       "      <th></th>\n",
       "      <th colspan=\"6\" halign=\"left\">AGG</th>\n",
       "      <th colspan=\"6\" halign=\"left\">SPY</th>\n",
       "    </tr>\n",
       "    <tr>\n",
       "      <th></th>\n",
       "      <th>open</th>\n",
       "      <th>high</th>\n",
       "      <th>low</th>\n",
       "      <th>close</th>\n",
       "      <th>volume</th>\n",
       "      <th>daily_return</th>\n",
       "      <th>open</th>\n",
       "      <th>high</th>\n",
       "      <th>low</th>\n",
       "      <th>close</th>\n",
       "      <th>volume</th>\n",
       "      <th>daily_return</th>\n",
       "    </tr>\n",
       "    <tr>\n",
       "      <th>time</th>\n",
       "      <th></th>\n",
       "      <th></th>\n",
       "      <th></th>\n",
       "      <th></th>\n",
       "      <th></th>\n",
       "      <th></th>\n",
       "      <th></th>\n",
       "      <th></th>\n",
       "      <th></th>\n",
       "      <th></th>\n",
       "      <th></th>\n",
       "      <th></th>\n",
       "    </tr>\n",
       "  </thead>\n",
       "  <tbody>\n",
       "    <tr>\n",
       "      <th>2021-07-12 00:00:00-04:00</th>\n",
       "      <td>115.80</td>\n",
       "      <td>115.805</td>\n",
       "      <td>115.6000</td>\n",
       "      <td>115.63</td>\n",
       "      <td>3184908</td>\n",
       "      <td>NaN</td>\n",
       "      <td>435.42</td>\n",
       "      <td>437.35</td>\n",
       "      <td>434.97</td>\n",
       "      <td>437.08</td>\n",
       "      <td>42031814</td>\n",
       "      <td>NaN</td>\n",
       "    </tr>\n",
       "    <tr>\n",
       "      <th>2021-07-13 00:00:00-04:00</th>\n",
       "      <td>115.65</td>\n",
       "      <td>115.760</td>\n",
       "      <td>115.3022</td>\n",
       "      <td>115.39</td>\n",
       "      <td>4698374</td>\n",
       "      <td>-0.002076</td>\n",
       "      <td>436.26</td>\n",
       "      <td>437.84</td>\n",
       "      <td>435.31</td>\n",
       "      <td>435.62</td>\n",
       "      <td>45923305</td>\n",
       "      <td>-0.003340</td>\n",
       "    </tr>\n",
       "    <tr>\n",
       "      <th>2021-07-14 00:00:00-04:00</th>\n",
       "      <td>115.59</td>\n",
       "      <td>115.760</td>\n",
       "      <td>115.5690</td>\n",
       "      <td>115.75</td>\n",
       "      <td>3907266</td>\n",
       "      <td>0.003120</td>\n",
       "      <td>437.39</td>\n",
       "      <td>437.92</td>\n",
       "      <td>434.91</td>\n",
       "      <td>436.22</td>\n",
       "      <td>54445950</td>\n",
       "      <td>0.001377</td>\n",
       "    </tr>\n",
       "    <tr>\n",
       "      <th>2021-07-15 00:00:00-04:00</th>\n",
       "      <td>115.94</td>\n",
       "      <td>116.020</td>\n",
       "      <td>115.7222</td>\n",
       "      <td>115.99</td>\n",
       "      <td>3675913</td>\n",
       "      <td>0.002073</td>\n",
       "      <td>434.81</td>\n",
       "      <td>435.53</td>\n",
       "      <td>432.72</td>\n",
       "      <td>434.73</td>\n",
       "      <td>50376465</td>\n",
       "      <td>-0.003416</td>\n",
       "    </tr>\n",
       "    <tr>\n",
       "      <th>2021-07-16 00:00:00-04:00</th>\n",
       "      <td>115.77</td>\n",
       "      <td>115.960</td>\n",
       "      <td>115.7600</td>\n",
       "      <td>115.90</td>\n",
       "      <td>3679747</td>\n",
       "      <td>-0.000776</td>\n",
       "      <td>436.00</td>\n",
       "      <td>436.06</td>\n",
       "      <td>430.92</td>\n",
       "      <td>431.38</td>\n",
       "      <td>66637403</td>\n",
       "      <td>-0.007706</td>\n",
       "    </tr>\n",
       "  </tbody>\n",
       "</table>\n",
       "</div>"
      ],
      "text/plain": [
       "                              AGG                                      \\\n",
       "                             open     high       low   close   volume   \n",
       "time                                                                    \n",
       "2021-07-12 00:00:00-04:00  115.80  115.805  115.6000  115.63  3184908   \n",
       "2021-07-13 00:00:00-04:00  115.65  115.760  115.3022  115.39  4698374   \n",
       "2021-07-14 00:00:00-04:00  115.59  115.760  115.5690  115.75  3907266   \n",
       "2021-07-15 00:00:00-04:00  115.94  116.020  115.7222  115.99  3675913   \n",
       "2021-07-16 00:00:00-04:00  115.77  115.960  115.7600  115.90  3679747   \n",
       "\n",
       "                                           SPY                          \\\n",
       "                          daily_return    open    high     low   close   \n",
       "time                                                                     \n",
       "2021-07-12 00:00:00-04:00          NaN  435.42  437.35  434.97  437.08   \n",
       "2021-07-13 00:00:00-04:00    -0.002076  436.26  437.84  435.31  435.62   \n",
       "2021-07-14 00:00:00-04:00     0.003120  437.39  437.92  434.91  436.22   \n",
       "2021-07-15 00:00:00-04:00     0.002073  434.81  435.53  432.72  434.73   \n",
       "2021-07-16 00:00:00-04:00    -0.000776  436.00  436.06  430.92  431.38   \n",
       "\n",
       "                                                  \n",
       "                             volume daily_return  \n",
       "time                                              \n",
       "2021-07-12 00:00:00-04:00  42031814          NaN  \n",
       "2021-07-13 00:00:00-04:00  45923305    -0.003340  \n",
       "2021-07-14 00:00:00-04:00  54445950     0.001377  \n",
       "2021-07-15 00:00:00-04:00  50376465    -0.003416  \n",
       "2021-07-16 00:00:00-04:00  66637403    -0.007706  "
      ]
     },
     "execution_count": 24,
     "metadata": {},
     "output_type": "execute_result"
    }
   ],
   "source": [
    "# Printing the simulation input data\n",
    "MC_30_years.portfolio_data.head()"
   ]
  },
  {
   "cell_type": "code",
   "execution_count": 25,
   "metadata": {},
   "outputs": [
    {
     "name": "stdout",
     "output_type": "stream",
     "text": [
      "Running Monte Carlo simulation number 0.\n",
      "Running Monte Carlo simulation number 10.\n",
      "Running Monte Carlo simulation number 20.\n",
      "Running Monte Carlo simulation number 30.\n",
      "Running Monte Carlo simulation number 40.\n",
      "Running Monte Carlo simulation number 50.\n",
      "Running Monte Carlo simulation number 60.\n",
      "Running Monte Carlo simulation number 70.\n",
      "Running Monte Carlo simulation number 80.\n",
      "Running Monte Carlo simulation number 90.\n",
      "Running Monte Carlo simulation number 100.\n",
      "Running Monte Carlo simulation number 110.\n",
      "Running Monte Carlo simulation number 120.\n",
      "Running Monte Carlo simulation number 130.\n",
      "Running Monte Carlo simulation number 140.\n",
      "Running Monte Carlo simulation number 150.\n",
      "Running Monte Carlo simulation number 160.\n",
      "Running Monte Carlo simulation number 170.\n",
      "Running Monte Carlo simulation number 180.\n",
      "Running Monte Carlo simulation number 190.\n",
      "Running Monte Carlo simulation number 200.\n",
      "Running Monte Carlo simulation number 210.\n",
      "Running Monte Carlo simulation number 220.\n",
      "Running Monte Carlo simulation number 230.\n",
      "Running Monte Carlo simulation number 240.\n",
      "Running Monte Carlo simulation number 250.\n",
      "Running Monte Carlo simulation number 260.\n",
      "Running Monte Carlo simulation number 270.\n",
      "Running Monte Carlo simulation number 280.\n",
      "Running Monte Carlo simulation number 290.\n",
      "Running Monte Carlo simulation number 300.\n",
      "Running Monte Carlo simulation number 310.\n",
      "Running Monte Carlo simulation number 320.\n",
      "Running Monte Carlo simulation number 330.\n",
      "Running Monte Carlo simulation number 340.\n",
      "Running Monte Carlo simulation number 350.\n",
      "Running Monte Carlo simulation number 360.\n",
      "Running Monte Carlo simulation number 370.\n",
      "Running Monte Carlo simulation number 380.\n",
      "Running Monte Carlo simulation number 390.\n",
      "Running Monte Carlo simulation number 400.\n",
      "Running Monte Carlo simulation number 410.\n",
      "Running Monte Carlo simulation number 420.\n",
      "Running Monte Carlo simulation number 430.\n",
      "Running Monte Carlo simulation number 440.\n",
      "Running Monte Carlo simulation number 450.\n",
      "Running Monte Carlo simulation number 460.\n",
      "Running Monte Carlo simulation number 470.\n",
      "Running Monte Carlo simulation number 480.\n",
      "Running Monte Carlo simulation number 490.\n"
     ]
    },
    {
     "data": {
      "text/html": [
       "<div>\n",
       "<style scoped>\n",
       "    .dataframe tbody tr th:only-of-type {\n",
       "        vertical-align: middle;\n",
       "    }\n",
       "\n",
       "    .dataframe tbody tr th {\n",
       "        vertical-align: top;\n",
       "    }\n",
       "\n",
       "    .dataframe thead th {\n",
       "        text-align: right;\n",
       "    }\n",
       "</style>\n",
       "<table border=\"1\" class=\"dataframe\">\n",
       "  <thead>\n",
       "    <tr style=\"text-align: right;\">\n",
       "      <th></th>\n",
       "      <th>0</th>\n",
       "      <th>1</th>\n",
       "      <th>2</th>\n",
       "      <th>3</th>\n",
       "      <th>4</th>\n",
       "      <th>5</th>\n",
       "      <th>6</th>\n",
       "      <th>7</th>\n",
       "      <th>8</th>\n",
       "      <th>9</th>\n",
       "      <th>...</th>\n",
       "      <th>490</th>\n",
       "      <th>491</th>\n",
       "      <th>492</th>\n",
       "      <th>493</th>\n",
       "      <th>494</th>\n",
       "      <th>495</th>\n",
       "      <th>496</th>\n",
       "      <th>497</th>\n",
       "      <th>498</th>\n",
       "      <th>499</th>\n",
       "    </tr>\n",
       "  </thead>\n",
       "  <tbody>\n",
       "    <tr>\n",
       "      <th>0</th>\n",
       "      <td>1.000000</td>\n",
       "      <td>1.000000</td>\n",
       "      <td>1.000000</td>\n",
       "      <td>1.000000</td>\n",
       "      <td>1.000000</td>\n",
       "      <td>1.000000</td>\n",
       "      <td>1.000000</td>\n",
       "      <td>1.000000</td>\n",
       "      <td>1.000000</td>\n",
       "      <td>1.000000</td>\n",
       "      <td>...</td>\n",
       "      <td>1.000000</td>\n",
       "      <td>1.000000</td>\n",
       "      <td>1.000000</td>\n",
       "      <td>1.000000</td>\n",
       "      <td>1.000000</td>\n",
       "      <td>1.000000</td>\n",
       "      <td>1.000000</td>\n",
       "      <td>1.000000</td>\n",
       "      <td>1.000000</td>\n",
       "      <td>1.000000</td>\n",
       "    </tr>\n",
       "    <tr>\n",
       "      <th>1</th>\n",
       "      <td>0.998846</td>\n",
       "      <td>0.998789</td>\n",
       "      <td>0.995180</td>\n",
       "      <td>1.007561</td>\n",
       "      <td>1.005207</td>\n",
       "      <td>1.001538</td>\n",
       "      <td>0.998773</td>\n",
       "      <td>0.997963</td>\n",
       "      <td>0.996877</td>\n",
       "      <td>1.000438</td>\n",
       "      <td>...</td>\n",
       "      <td>0.999727</td>\n",
       "      <td>0.997769</td>\n",
       "      <td>1.003639</td>\n",
       "      <td>0.999956</td>\n",
       "      <td>0.998850</td>\n",
       "      <td>1.008901</td>\n",
       "      <td>0.996674</td>\n",
       "      <td>1.003871</td>\n",
       "      <td>0.999206</td>\n",
       "      <td>1.002942</td>\n",
       "    </tr>\n",
       "    <tr>\n",
       "      <th>2</th>\n",
       "      <td>1.000617</td>\n",
       "      <td>0.999254</td>\n",
       "      <td>0.992222</td>\n",
       "      <td>1.007155</td>\n",
       "      <td>0.998439</td>\n",
       "      <td>1.005122</td>\n",
       "      <td>0.997907</td>\n",
       "      <td>0.993751</td>\n",
       "      <td>1.002141</td>\n",
       "      <td>0.999968</td>\n",
       "      <td>...</td>\n",
       "      <td>1.000417</td>\n",
       "      <td>0.999682</td>\n",
       "      <td>1.008721</td>\n",
       "      <td>1.004875</td>\n",
       "      <td>1.003321</td>\n",
       "      <td>1.003813</td>\n",
       "      <td>1.002202</td>\n",
       "      <td>0.997238</td>\n",
       "      <td>0.999530</td>\n",
       "      <td>0.997941</td>\n",
       "    </tr>\n",
       "    <tr>\n",
       "      <th>3</th>\n",
       "      <td>1.002233</td>\n",
       "      <td>0.996307</td>\n",
       "      <td>0.999469</td>\n",
       "      <td>1.003953</td>\n",
       "      <td>0.991507</td>\n",
       "      <td>1.002956</td>\n",
       "      <td>0.997733</td>\n",
       "      <td>0.989740</td>\n",
       "      <td>1.003898</td>\n",
       "      <td>0.999584</td>\n",
       "      <td>...</td>\n",
       "      <td>0.997038</td>\n",
       "      <td>1.003430</td>\n",
       "      <td>1.013788</td>\n",
       "      <td>1.006928</td>\n",
       "      <td>1.001466</td>\n",
       "      <td>0.998990</td>\n",
       "      <td>0.995642</td>\n",
       "      <td>0.995071</td>\n",
       "      <td>0.999272</td>\n",
       "      <td>0.992861</td>\n",
       "    </tr>\n",
       "    <tr>\n",
       "      <th>4</th>\n",
       "      <td>1.002193</td>\n",
       "      <td>0.996752</td>\n",
       "      <td>0.995455</td>\n",
       "      <td>1.013932</td>\n",
       "      <td>0.986240</td>\n",
       "      <td>1.002970</td>\n",
       "      <td>0.986961</td>\n",
       "      <td>0.989403</td>\n",
       "      <td>1.001158</td>\n",
       "      <td>1.005184</td>\n",
       "      <td>...</td>\n",
       "      <td>0.995475</td>\n",
       "      <td>0.997978</td>\n",
       "      <td>1.013696</td>\n",
       "      <td>1.008739</td>\n",
       "      <td>0.994624</td>\n",
       "      <td>0.995169</td>\n",
       "      <td>0.991970</td>\n",
       "      <td>0.990147</td>\n",
       "      <td>0.996692</td>\n",
       "      <td>0.995957</td>\n",
       "    </tr>\n",
       "    <tr>\n",
       "      <th>...</th>\n",
       "      <td>...</td>\n",
       "      <td>...</td>\n",
       "      <td>...</td>\n",
       "      <td>...</td>\n",
       "      <td>...</td>\n",
       "      <td>...</td>\n",
       "      <td>...</td>\n",
       "      <td>...</td>\n",
       "      <td>...</td>\n",
       "      <td>...</td>\n",
       "      <td>...</td>\n",
       "      <td>...</td>\n",
       "      <td>...</td>\n",
       "      <td>...</td>\n",
       "      <td>...</td>\n",
       "      <td>...</td>\n",
       "      <td>...</td>\n",
       "      <td>...</td>\n",
       "      <td>...</td>\n",
       "      <td>...</td>\n",
       "      <td>...</td>\n",
       "    </tr>\n",
       "    <tr>\n",
       "      <th>7556</th>\n",
       "      <td>7.304953</td>\n",
       "      <td>11.808007</td>\n",
       "      <td>5.587115</td>\n",
       "      <td>7.200667</td>\n",
       "      <td>5.169739</td>\n",
       "      <td>5.943418</td>\n",
       "      <td>2.757836</td>\n",
       "      <td>11.682761</td>\n",
       "      <td>3.338447</td>\n",
       "      <td>6.232347</td>\n",
       "      <td>...</td>\n",
       "      <td>4.284137</td>\n",
       "      <td>9.316437</td>\n",
       "      <td>5.330725</td>\n",
       "      <td>8.768854</td>\n",
       "      <td>4.408236</td>\n",
       "      <td>5.689288</td>\n",
       "      <td>7.918291</td>\n",
       "      <td>4.919318</td>\n",
       "      <td>9.987400</td>\n",
       "      <td>3.944186</td>\n",
       "    </tr>\n",
       "    <tr>\n",
       "      <th>7557</th>\n",
       "      <td>7.325276</td>\n",
       "      <td>11.854374</td>\n",
       "      <td>5.583527</td>\n",
       "      <td>7.143460</td>\n",
       "      <td>5.159258</td>\n",
       "      <td>5.917961</td>\n",
       "      <td>2.749567</td>\n",
       "      <td>11.641049</td>\n",
       "      <td>3.345401</td>\n",
       "      <td>6.271726</td>\n",
       "      <td>...</td>\n",
       "      <td>4.268391</td>\n",
       "      <td>9.252120</td>\n",
       "      <td>5.334415</td>\n",
       "      <td>8.783627</td>\n",
       "      <td>4.427959</td>\n",
       "      <td>5.748463</td>\n",
       "      <td>7.875209</td>\n",
       "      <td>4.926835</td>\n",
       "      <td>10.019405</td>\n",
       "      <td>3.933332</td>\n",
       "    </tr>\n",
       "    <tr>\n",
       "      <th>7558</th>\n",
       "      <td>7.311156</td>\n",
       "      <td>11.803468</td>\n",
       "      <td>5.630994</td>\n",
       "      <td>7.164438</td>\n",
       "      <td>5.149718</td>\n",
       "      <td>5.931757</td>\n",
       "      <td>2.769233</td>\n",
       "      <td>11.745131</td>\n",
       "      <td>3.362051</td>\n",
       "      <td>6.299025</td>\n",
       "      <td>...</td>\n",
       "      <td>4.253211</td>\n",
       "      <td>9.232297</td>\n",
       "      <td>5.337782</td>\n",
       "      <td>8.753065</td>\n",
       "      <td>4.430096</td>\n",
       "      <td>5.746139</td>\n",
       "      <td>7.868876</td>\n",
       "      <td>4.938418</td>\n",
       "      <td>9.985787</td>\n",
       "      <td>3.900826</td>\n",
       "    </tr>\n",
       "    <tr>\n",
       "      <th>7559</th>\n",
       "      <td>7.252468</td>\n",
       "      <td>11.841589</td>\n",
       "      <td>5.696046</td>\n",
       "      <td>7.145697</td>\n",
       "      <td>5.150299</td>\n",
       "      <td>5.933458</td>\n",
       "      <td>2.771229</td>\n",
       "      <td>11.745036</td>\n",
       "      <td>3.361440</td>\n",
       "      <td>6.244359</td>\n",
       "      <td>...</td>\n",
       "      <td>4.246096</td>\n",
       "      <td>9.266704</td>\n",
       "      <td>5.299591</td>\n",
       "      <td>8.736826</td>\n",
       "      <td>4.438197</td>\n",
       "      <td>5.754605</td>\n",
       "      <td>7.872774</td>\n",
       "      <td>4.921982</td>\n",
       "      <td>9.935030</td>\n",
       "      <td>3.927032</td>\n",
       "    </tr>\n",
       "    <tr>\n",
       "      <th>7560</th>\n",
       "      <td>7.267720</td>\n",
       "      <td>11.807954</td>\n",
       "      <td>5.683240</td>\n",
       "      <td>7.134008</td>\n",
       "      <td>5.193339</td>\n",
       "      <td>5.927553</td>\n",
       "      <td>2.742070</td>\n",
       "      <td>11.842578</td>\n",
       "      <td>3.344876</td>\n",
       "      <td>6.267459</td>\n",
       "      <td>...</td>\n",
       "      <td>4.263014</td>\n",
       "      <td>9.372423</td>\n",
       "      <td>5.291745</td>\n",
       "      <td>8.710256</td>\n",
       "      <td>4.425758</td>\n",
       "      <td>5.779334</td>\n",
       "      <td>7.853768</td>\n",
       "      <td>4.875152</td>\n",
       "      <td>9.891605</td>\n",
       "      <td>3.932229</td>\n",
       "    </tr>\n",
       "  </tbody>\n",
       "</table>\n",
       "<p>7561 rows × 500 columns</p>\n",
       "</div>"
      ],
      "text/plain": [
       "           0          1         2         3         4         5         6    \\\n",
       "0     1.000000   1.000000  1.000000  1.000000  1.000000  1.000000  1.000000   \n",
       "1     0.998846   0.998789  0.995180  1.007561  1.005207  1.001538  0.998773   \n",
       "2     1.000617   0.999254  0.992222  1.007155  0.998439  1.005122  0.997907   \n",
       "3     1.002233   0.996307  0.999469  1.003953  0.991507  1.002956  0.997733   \n",
       "4     1.002193   0.996752  0.995455  1.013932  0.986240  1.002970  0.986961   \n",
       "...        ...        ...       ...       ...       ...       ...       ...   \n",
       "7556  7.304953  11.808007  5.587115  7.200667  5.169739  5.943418  2.757836   \n",
       "7557  7.325276  11.854374  5.583527  7.143460  5.159258  5.917961  2.749567   \n",
       "7558  7.311156  11.803468  5.630994  7.164438  5.149718  5.931757  2.769233   \n",
       "7559  7.252468  11.841589  5.696046  7.145697  5.150299  5.933458  2.771229   \n",
       "7560  7.267720  11.807954  5.683240  7.134008  5.193339  5.927553  2.742070   \n",
       "\n",
       "            7         8         9    ...       490       491       492  \\\n",
       "0      1.000000  1.000000  1.000000  ...  1.000000  1.000000  1.000000   \n",
       "1      0.997963  0.996877  1.000438  ...  0.999727  0.997769  1.003639   \n",
       "2      0.993751  1.002141  0.999968  ...  1.000417  0.999682  1.008721   \n",
       "3      0.989740  1.003898  0.999584  ...  0.997038  1.003430  1.013788   \n",
       "4      0.989403  1.001158  1.005184  ...  0.995475  0.997978  1.013696   \n",
       "...         ...       ...       ...  ...       ...       ...       ...   \n",
       "7556  11.682761  3.338447  6.232347  ...  4.284137  9.316437  5.330725   \n",
       "7557  11.641049  3.345401  6.271726  ...  4.268391  9.252120  5.334415   \n",
       "7558  11.745131  3.362051  6.299025  ...  4.253211  9.232297  5.337782   \n",
       "7559  11.745036  3.361440  6.244359  ...  4.246096  9.266704  5.299591   \n",
       "7560  11.842578  3.344876  6.267459  ...  4.263014  9.372423  5.291745   \n",
       "\n",
       "           493       494       495       496       497        498       499  \n",
       "0     1.000000  1.000000  1.000000  1.000000  1.000000   1.000000  1.000000  \n",
       "1     0.999956  0.998850  1.008901  0.996674  1.003871   0.999206  1.002942  \n",
       "2     1.004875  1.003321  1.003813  1.002202  0.997238   0.999530  0.997941  \n",
       "3     1.006928  1.001466  0.998990  0.995642  0.995071   0.999272  0.992861  \n",
       "4     1.008739  0.994624  0.995169  0.991970  0.990147   0.996692  0.995957  \n",
       "...        ...       ...       ...       ...       ...        ...       ...  \n",
       "7556  8.768854  4.408236  5.689288  7.918291  4.919318   9.987400  3.944186  \n",
       "7557  8.783627  4.427959  5.748463  7.875209  4.926835  10.019405  3.933332  \n",
       "7558  8.753065  4.430096  5.746139  7.868876  4.938418   9.985787  3.900826  \n",
       "7559  8.736826  4.438197  5.754605  7.872774  4.921982   9.935030  3.927032  \n",
       "7560  8.710256  4.425758  5.779334  7.853768  4.875152   9.891605  3.932229  \n",
       "\n",
       "[7561 rows x 500 columns]"
      ]
     },
     "execution_count": 25,
     "metadata": {},
     "output_type": "execute_result"
    }
   ],
   "source": [
    "# Running a Monte Carlo simulation to forecast 30 years cumulative returns\n",
    "MC_30_years.calc_cumulative_return()"
   ]
  },
  {
   "cell_type": "code",
   "execution_count": 26,
   "metadata": {},
   "outputs": [
    {
     "data": {
      "image/png": "[encoded data removed]",
      "text/plain": [
       "<Figure size 432x288 with 1 Axes>"
      ]
     },
     "metadata": {
      "needs_background": "light"
     },
     "output_type": "display_data"
    }
   ],
   "source": [
    "# Plot simulation outcomes\n",
    "line_plot = MC_30_years.plot_simulation()"
   ]
  },
  {
   "cell_type": "code",
   "execution_count": 27,
   "metadata": {},
   "outputs": [
    {
     "data": {
      "image/png": "[encoded data removed]",
      "text/plain": [
       "<Figure size 432x288 with 1 Axes>"
      ]
     },
     "metadata": {
      "needs_background": "light"
     },
     "output_type": "display_data"
    }
   ],
   "source": [
    "# Plot probability distribution and confidence intervals\n",
    "dist_plot = MC_30_years.plot_distribution()"
   ]
  },
  {
   "cell_type": "markdown",
   "metadata": {},
   "source": [
    "### Retirement Analysis"
   ]
  },
  {
   "cell_type": "code",
   "execution_count": 28,
   "metadata": {},
   "outputs": [],
   "source": [
    "# Fetch summary statistics from the Monte Carlo simulation results\n",
    "# YOUR CODE HERE!\n",
    "\n",
    "# Print summary statistics\n",
    "# YOUR CODE HERE!"
   ]
  },
  {
   "cell_type": "markdown",
   "metadata": {},
   "source": [
    "### Calculate the expected portfolio return at the 95% lower and upper confidence intervals based on a `$20,000` initial investment."
   ]
  },
  {
   "cell_type": "code",
   "execution_count": 29,
   "metadata": {},
   "outputs": [
    {
     "ename": "NameError",
     "evalue": "name 'ci_lower' is not defined",
     "output_type": "error",
     "traceback": [
      "\u001b[0;31m---------------------------------------------------------------------------\u001b[0m",
      "\u001b[0;31mNameError\u001b[0m                                 Traceback (most recent call last)",
      "\u001b[0;32m<ipython-input-29-9da7cb59ebed>\u001b[0m in \u001b[0;36m<module>\u001b[0;34m\u001b[0m\n\u001b[1;32m      6\u001b[0m \u001b[0;34m\u001b[0m\u001b[0m\n\u001b[1;32m      7\u001b[0m \u001b[0;31m# Print results\u001b[0m\u001b[0;34m\u001b[0m\u001b[0;34m\u001b[0m\u001b[0;34m\u001b[0m\u001b[0m\n\u001b[0;32m----> 8\u001b[0;31m print(f\"There is a 95% chance that an initial investment of ${initial_investment} in the portfolio\"\n\u001b[0m\u001b[1;32m      9\u001b[0m       \u001b[0;34mf\" over the next 30 years will end within in the range of\"\u001b[0m\u001b[0;34m\u001b[0m\u001b[0;34m\u001b[0m\u001b[0m\n\u001b[1;32m     10\u001b[0m       f\" ${ci_lower} and ${ci_upper}\")\n",
      "\u001b[0;31mNameError\u001b[0m: name 'ci_lower' is not defined"
     ]
    }
   ],
   "source": [
    "# Set initial investment\n",
    "initial_investment = 20000\n",
    "\n",
    "# Use the lower and upper `95%` confidence intervals to calculate the range of the possible outcomes of our $20,000\n",
    "# YOUR CODE HERE!\n",
    "\n",
    "# Print results\n",
    "print(f\"There is a 95% chance that an initial investment of ${initial_investment} in the portfolio\"\n",
    "      f\" over the next 30 years will end within in the range of\"\n",
    "      f\" ${ci_lower} and ${ci_upper}\")"
   ]
  },
  {
   "cell_type": "markdown",
   "metadata": {},
   "source": [
    "### Calculate the expected portfolio return at the `95%` lower and upper confidence intervals based on a `50%` increase in the initial investment."
   ]
  },
  {
   "cell_type": "code",
   "execution_count": null,
   "metadata": {},
   "outputs": [],
   "source": [
    "# Set initial investment\n",
    "initial_investment = 20000 * 1.5\n",
    "\n",
    "# Use the lower and upper `95%` confidence intervals to calculate the range of the possible outcomes of our $30,000\n",
    "# YOUR CODE HERE!\n",
    "\n",
    "# Print results\n",
    "print(f\"There is a 95% chance that an initial investment of ${initial_investment} in the portfolio\"\n",
    "      f\" over the next 30 years will end within in the range of\"\n",
    "      f\" ${ci_lower} and ${ci_upper}\")"
   ]
  },
  {
   "cell_type": "markdown",
   "metadata": {},
   "source": [
    "## Optional Challenge - Early Retirement\n",
    "\n",
    "\n",
    "### Five Years Retirement Option"
   ]
  },
  {
   "cell_type": "code",
   "execution_count": null,
   "metadata": {},
   "outputs": [],
   "source": [
    "# Configuring a Monte Carlo simulation to forecast 5 years cumulative returns\n",
    "# YOUR CODE HERE!"
   ]
  },
  {
   "cell_type": "code",
   "execution_count": null,
   "metadata": {},
   "outputs": [],
   "source": [
    "# Running a Monte Carlo simulation to forecast 5 years cumulative returns\n",
    "# YOUR CODE HERE!"
   ]
  },
  {
   "cell_type": "code",
   "execution_count": null,
   "metadata": {},
   "outputs": [],
   "source": [
    "# Plot simulation outcomes\n",
    "# YOUR CODE HERE!"
   ]
  },
  {
   "cell_type": "code",
   "execution_count": null,
   "metadata": {},
   "outputs": [],
   "source": [
    "# Plot probability distribution and confidence intervals\n",
    "# YOUR CODE HERE!"
   ]
  },
  {
   "cell_type": "code",
   "execution_count": null,
   "metadata": {},
   "outputs": [],
   "source": [
    "# Fetch summary statistics from the Monte Carlo simulation results\n",
    "# YOUR CODE HERE!\n",
    "\n",
    "# Print summary statistics\n",
    "# YOUR CODE HERE!"
   ]
  },
  {
   "cell_type": "code",
   "execution_count": null,
   "metadata": {},
   "outputs": [],
   "source": [
    "# Set initial investment\n",
    "# YOUR CODE HERE!\n",
    "\n",
    "# Use the lower and upper `95%` confidence intervals to calculate the range of the possible outcomes of our $60,000\n",
    "# YOUR CODE HERE!\n",
    "\n",
    "# Print results\n",
    "print(f\"There is a 95% chance that an initial investment of ${initial_investment} in the portfolio\"\n",
    "      f\" over the next 5 years will end within in the range of\"\n",
    "      f\" ${ci_lower_five} and ${ci_upper_five}\")"
   ]
  },
  {
   "cell_type": "markdown",
   "metadata": {},
   "source": [
    "### Ten Years Retirement Option"
   ]
  },
  {
   "cell_type": "code",
   "execution_count": null,
   "metadata": {},
   "outputs": [],
   "source": [
    "# Configuring a Monte Carlo simulation to forecast 10 years cumulative returns\n",
    "# YOUR CODE HERE!"
   ]
  },
  {
   "cell_type": "code",
   "execution_count": null,
   "metadata": {},
   "outputs": [],
   "source": [
    "# Running a Monte Carlo simulation to forecast 10 years cumulative returns\n",
    "# YOUR CODE HERE!"
   ]
  },
  {
   "cell_type": "code",
   "execution_count": null,
   "metadata": {},
   "outputs": [],
   "source": [
    "# Plot simulation outcomes\n",
    "# YOUR CODE HERE!"
   ]
  },
  {
   "cell_type": "code",
   "execution_count": null,
   "metadata": {},
   "outputs": [],
   "source": [
    "# Plot probability distribution and confidence intervals\n",
    "# YOUR CODE HERE!"
   ]
  },
  {
   "cell_type": "code",
   "execution_count": null,
   "metadata": {},
   "outputs": [],
   "source": [
    "# Fetch summary statistics from the Monte Carlo simulation results\n",
    "# YOUR CODE HERE!\n",
    "\n",
    "# Print summary statistics\n",
    "# YOUR CODE HERE!"
   ]
  },
  {
   "cell_type": "code",
   "execution_count": null,
   "metadata": {},
   "outputs": [],
   "source": [
    "# Set initial investment\n",
    "# YOUR CODE HERE!\n",
    "\n",
    "# Use the lower and upper `95%` confidence intervals to calculate the range of the possible outcomes of our $60,000\n",
    "# YOUR CODE HERE!\n",
    "\n",
    "# Print results\n",
    "print(f\"There is a 95% chance that an initial investment of ${initial_investment} in the portfolio\"\n",
    "      f\" over the next 10 years will end within in the range of\"\n",
    "      f\" ${ci_lower_ten} and ${ci_upper_ten}\")"
   ]
  }
 ],
 "metadata": {
  "kernelspec": {
   "display_name": "Python 3",
   "language": "python",
   "name": "python3"
  },
  "language_info": {
   "codemirror_mode": {
    "name": "ipython",
    "version": 3
   },
   "file_extension": ".py",
   "mimetype": "text/x-python",
   "name": "python",
   "nbconvert_exporter": "python",
   "pygments_lexer": "ipython3",
   "version": "3.7.10"
  }
 },
 "nbformat": 4,
 "nbformat_minor": 4
}
